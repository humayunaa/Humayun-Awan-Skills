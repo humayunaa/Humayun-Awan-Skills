{
 "cells": [
  {
   "cell_type": "code",
   "execution_count": 64,
   "id": "44ac18ed",
   "metadata": {},
   "outputs": [],
   "source": [
    "# imported modules\n",
    "import numpy as np\n",
    "import pandas as pd\n",
    "import ast\n",
    "\n",
    "from pandas import Series, DataFrame"
   ]
  },
  {
   "cell_type": "code",
   "execution_count": 2,
   "id": "ac715e76",
   "metadata": {},
   "outputs": [
    {
     "name": "stderr",
     "output_type": "stream",
     "text": [
      "C:\\Users\\humay\\AppData\\Local\\Temp\\ipykernel_25396\\1101780405.py:2: DtypeWarning: Columns (10) have mixed types. Specify dtype option on import or set low_memory=False.\n",
      "  md_df = pd.read_csv(\"movies_metadata.csv\", usecols=[\"id\", \"budget\",\n"
     ]
    }
   ],
   "source": [
    "# metadata dataframe\n",
    "md_df = pd.read_csv(\"movies_metadata.csv\", usecols=[\"id\", \"budget\",\n",
    "                                                    \"production_companies\", \"production_countries\",\n",
    "                                                    \"title\", \"revenue\", \"release_date\",\n",
    "                                                   \"belongs_to_collection\", \"genres\",\n",
    "                                                   \"original_language\", \"runtime\",\n",
    "                                                   \"vote_average\", \"vote_count\", \"popularity\"])\n",
    "\n",
    "md_df = md_df.reindex(columns=[\"id\", \"title\", \"belongs_to_collection\", \"genres\", \"budget\", \"revenue\",\n",
    "                               \"original_language\", \"release_date\", \"runtime\",\n",
    "                                 \"production_companies\", \"production_countries\",\n",
    "                              \"vote_average\", \"vote_count\", \"popularity\"])"
   ]
  },
  {
   "cell_type": "code",
   "execution_count": 71,
   "id": "333a6ed7",
   "metadata": {},
   "outputs": [
    {
     "data": {
      "text/plain": [
       "Index(['id', 'title', 'belongs_to_collection', 'genres', 'budget', 'revenue',\n",
       "       'original_language', 'release_date', 'runtime', 'production_companies',\n",
       "       'production_countries', 'vote_average', 'vote_count', 'popularity'],\n",
       "      dtype='object')"
      ]
     },
     "execution_count": 71,
     "metadata": {},
     "output_type": "execute_result"
    }
   ],
   "source": [
    "md_df.columns"
   ]
  },
  {
   "cell_type": "code",
   "execution_count": 3,
   "id": "ca7c2f0a",
   "metadata": {},
   "outputs": [],
   "source": [
    "# credits dataframe\n",
    "credits_df = pd.read_csv(\"credits.csv\", usecols=[\"crew\", \"id\"])\n",
    "credits_df = credits_df.reindex(columns=[\"id\", \"crew\"])\n",
    "credits_df[\"id\"] = credits_df[\"id\"].astype(str)"
   ]
  },
  {
   "cell_type": "code",
   "execution_count": 6,
   "id": "58098d8c",
   "metadata": {},
   "outputs": [],
   "source": [
    "#combined dataframe\n",
    "combined_df = pd.merge(md_df, credits_df, on=\"id\")\n",
    "combined_df = combined_df[(combined_df[\"budget\"] != \"0\") & (combined_df[\"revenue\"] > 0)]\n",
    "combined_df[\"budget\"] = combined_df[\"budget\"].astype(\"int64\")\n",
    "combined_df[\"revenue\"] = combined_df[\"revenue\"].astype(\"int64\")\n",
    "combined_df.dropna(subset = ['runtime'], inplace=True)\n",
    "combined_df.index = [i for i in range (0, len(combined_df.values))]\n",
    "\n",
    "combined_df[\"popularity\"] = combined_df[\"popularity\"].astype(\"float64\")"
   ]
  },
  {
   "cell_type": "code",
   "execution_count": 8,
   "id": "0378d6c1",
   "metadata": {},
   "outputs": [],
   "source": [
    "# production companies\n",
    "data_prod_companies = combined_df[\"production_companies\"]\n",
    "data_prod_companies_df = pd.DataFrame(data_prod_companies)\n",
    "\n",
    "prod_comps_ids = data_prod_companies_df['production_companies'].apply(lambda x: [entry['id'] for entry in ast.literal_eval(x)])\n",
    "prod_comps_names = data_prod_companies_df['production_companies'].apply(lambda x: [entry['name'] for entry in ast.literal_eval(x)])\n",
    "\n",
    "# genres\n",
    "data_genres = combined_df[\"genres\"]\n",
    "data_genres_df = pd.DataFrame(data_genres)\n",
    "data_genres_df\n",
    "\n",
    "genres_ids = data_genres_df['genres'].apply(lambda x: [entry['id'] for entry in ast.literal_eval(x)])\n",
    "genres_names = data_genres_df['genres'].apply(lambda x: [entry['name'] for entry in ast.literal_eval(x)])\n",
    "\n",
    "# production countries\n",
    "data_prod_countries = combined_df[\"production_countries\"]\n",
    "data_prod_countries_df = pd.DataFrame(data_prod_countries)\n",
    "\n",
    "data_prod_countries_df\n",
    "prod_countries_id = data_prod_countries_df['production_countries'].apply(lambda x: [entry['iso_3166_1'] for entry in ast.literal_eval(x)])\n",
    "prod_countries_names = data_prod_countries_df['production_countries'].apply(lambda x: [entry['name'] for entry in ast.literal_eval(x)])\n",
    "\n",
    "# release_date\n",
    "data_release_date = combined_df[\"release_date\"].str.split(\"-\")\n",
    "release_years = []\n",
    "for each in data_release_date:\n",
    "    release_years.append(each[0])"
   ]
  },
  {
   "cell_type": "code",
   "execution_count": 10,
   "id": "173f5e40",
   "metadata": {},
   "outputs": [],
   "source": [
    "# new columns in combined_df\n",
    "\n",
    "# from:\n",
    "# production_companies\n",
    "combined_df[\"production_companies_id\"] = prod_comps_ids\n",
    "combined_df[\"production_companies_name\"] = prod_comps_names\n",
    "\n",
    "# genres\n",
    "combined_df[\"genres_id\"] = genres_ids\n",
    "combined_df[\"genres_name\"] = genres_names\n",
    "\n",
    "# production_countries\n",
    "combined_df[\"production_countries_id\"] = prod_countries_id\n",
    "combined_df[\"production_countries_name\"] = prod_countries_names\n",
    "\n",
    "# release_date\n",
    "combined_df[\"release_year\"] = release_years"
   ]
  },
  {
   "cell_type": "code",
   "execution_count": 11,
   "id": "0593bbd8",
   "metadata": {},
   "outputs": [
    {
     "name": "stdout",
     "output_type": "stream",
     "text": [
      "DROPPED AND REINDEXED\n"
     ]
    }
   ],
   "source": [
    "combined_df = combined_df.drop(columns=[\"genres\", \"production_companies\",\n",
    "                          \"production_countries\", \"release_date\"])\n",
    "\n",
    "combined_df = combined_df.reindex(columns=[\"id\", \"belongs_to_collection\", \"title\", \"release_year\",\n",
    "                            \"genres_id\", \"genres_name\", \"budget\", \"revenue\", \"original_language\",\n",
    "                            \"production_companies_id\", \"production_companies_name\",\n",
    "                            \"production_countries_id\", \"production_countries_name\",\n",
    "                            \"runtime\", \"vote_average\", \"vote_count\", \"popularity\", \"crew\"])\n",
    "\n",
    "print(\"DROPPED AND REINDEXED\")"
   ]
  },
  {
   "cell_type": "markdown",
   "id": "d08436cf",
   "metadata": {},
   "source": [
    "# Learn below !!!!"
   ]
  },
  {
   "cell_type": "code",
   "execution_count": 13,
   "id": "25365ac1",
   "metadata": {},
   "outputs": [
    {
     "data": {
      "text/plain": [
       "budget          0.730223\n",
       "popularity      0.440736\n",
       "release_year    0.159641\n",
       "vote_average    0.167622\n",
       "vote_count      0.770668\n",
       "runtime         0.189729\n",
       "revenue         1.000000\n",
       "Name: revenue, dtype: float64"
      ]
     },
     "execution_count": 13,
     "metadata": {},
     "output_type": "execute_result"
    }
   ],
   "source": [
    "combined_df[[\"budget\", \"popularity\", \"release_year\", \"vote_average\", \"vote_count\", \"runtime\", \"revenue\"]].corr()[\"revenue\"]\n",
    "# use = vote_count, budget\n",
    "# high correlation > 0.7"
   ]
  },
  {
   "cell_type": "markdown",
   "id": "579440e2",
   "metadata": {},
   "source": [
    "# Using to predict Revenue:\n",
    "\n",
    "- ## vote_count\n",
    "- ## budget"
   ]
  },
  {
   "cell_type": "code",
   "execution_count": 14,
   "id": "89f64a24",
   "metadata": {},
   "outputs": [
    {
     "data": {
      "text/html": [
       "<div>\n",
       "<style scoped>\n",
       "    .dataframe tbody tr th:only-of-type {\n",
       "        vertical-align: middle;\n",
       "    }\n",
       "\n",
       "    .dataframe tbody tr th {\n",
       "        vertical-align: top;\n",
       "    }\n",
       "\n",
       "    .dataframe thead th {\n",
       "        text-align: right;\n",
       "    }\n",
       "</style>\n",
       "<table border=\"1\" class=\"dataframe\">\n",
       "  <thead>\n",
       "    <tr style=\"text-align: right;\">\n",
       "      <th></th>\n",
       "      <th>id</th>\n",
       "      <th>belongs_to_collection</th>\n",
       "      <th>title</th>\n",
       "      <th>release_year</th>\n",
       "      <th>genres_id</th>\n",
       "      <th>genres_name</th>\n",
       "      <th>budget</th>\n",
       "      <th>revenue</th>\n",
       "      <th>original_language</th>\n",
       "      <th>production_companies_id</th>\n",
       "      <th>production_companies_name</th>\n",
       "      <th>production_countries_id</th>\n",
       "      <th>production_countries_name</th>\n",
       "      <th>runtime</th>\n",
       "      <th>vote_average</th>\n",
       "      <th>vote_count</th>\n",
       "      <th>popularity</th>\n",
       "      <th>crew</th>\n",
       "    </tr>\n",
       "  </thead>\n",
       "  <tbody>\n",
       "    <tr>\n",
       "      <th>0</th>\n",
       "      <td>862</td>\n",
       "      <td>{'id': 10194, 'name': 'Toy Story Collection', ...</td>\n",
       "      <td>Toy Story</td>\n",
       "      <td>1995</td>\n",
       "      <td>[16, 35, 10751]</td>\n",
       "      <td>[Animation, Comedy, Family]</td>\n",
       "      <td>30000000</td>\n",
       "      <td>373554033</td>\n",
       "      <td>en</td>\n",
       "      <td>[3]</td>\n",
       "      <td>[Pixar Animation Studios]</td>\n",
       "      <td>[US]</td>\n",
       "      <td>[United States of America]</td>\n",
       "      <td>81.0</td>\n",
       "      <td>7.7</td>\n",
       "      <td>5415.0</td>\n",
       "      <td>21.946943</td>\n",
       "      <td>[{'credit_id': '52fe4284c3a36847f8024f49', 'de...</td>\n",
       "    </tr>\n",
       "    <tr>\n",
       "      <th>1</th>\n",
       "      <td>8844</td>\n",
       "      <td>NaN</td>\n",
       "      <td>Jumanji</td>\n",
       "      <td>1995</td>\n",
       "      <td>[12, 14, 10751]</td>\n",
       "      <td>[Adventure, Fantasy, Family]</td>\n",
       "      <td>65000000</td>\n",
       "      <td>262797249</td>\n",
       "      <td>en</td>\n",
       "      <td>[559, 2550, 10201]</td>\n",
       "      <td>[TriStar Pictures, Teitler Film, Interscope Co...</td>\n",
       "      <td>[US]</td>\n",
       "      <td>[United States of America]</td>\n",
       "      <td>104.0</td>\n",
       "      <td>6.9</td>\n",
       "      <td>2413.0</td>\n",
       "      <td>17.015539</td>\n",
       "      <td>[{'credit_id': '52fe44bfc3a36847f80a7cd1', 'de...</td>\n",
       "    </tr>\n",
       "    <tr>\n",
       "      <th>2</th>\n",
       "      <td>31357</td>\n",
       "      <td>NaN</td>\n",
       "      <td>Waiting to Exhale</td>\n",
       "      <td>1995</td>\n",
       "      <td>[35, 18, 10749]</td>\n",
       "      <td>[Comedy, Drama, Romance]</td>\n",
       "      <td>16000000</td>\n",
       "      <td>81452156</td>\n",
       "      <td>en</td>\n",
       "      <td>[306]</td>\n",
       "      <td>[Twentieth Century Fox Film Corporation]</td>\n",
       "      <td>[US]</td>\n",
       "      <td>[United States of America]</td>\n",
       "      <td>127.0</td>\n",
       "      <td>6.1</td>\n",
       "      <td>34.0</td>\n",
       "      <td>3.859495</td>\n",
       "      <td>[{'credit_id': '52fe44779251416c91011acb', 'de...</td>\n",
       "    </tr>\n",
       "    <tr>\n",
       "      <th>3</th>\n",
       "      <td>949</td>\n",
       "      <td>NaN</td>\n",
       "      <td>Heat</td>\n",
       "      <td>1995</td>\n",
       "      <td>[28, 80, 18, 53]</td>\n",
       "      <td>[Action, Crime, Drama, Thriller]</td>\n",
       "      <td>60000000</td>\n",
       "      <td>187436818</td>\n",
       "      <td>en</td>\n",
       "      <td>[508, 675, 6194]</td>\n",
       "      <td>[Regency Enterprises, Forward Pass, Warner Bros.]</td>\n",
       "      <td>[US]</td>\n",
       "      <td>[United States of America]</td>\n",
       "      <td>170.0</td>\n",
       "      <td>7.7</td>\n",
       "      <td>1886.0</td>\n",
       "      <td>17.924927</td>\n",
       "      <td>[{'credit_id': '52fe4292c3a36847f802916d', 'de...</td>\n",
       "    </tr>\n",
       "    <tr>\n",
       "      <th>4</th>\n",
       "      <td>9091</td>\n",
       "      <td>NaN</td>\n",
       "      <td>Sudden Death</td>\n",
       "      <td>1995</td>\n",
       "      <td>[28, 12, 53]</td>\n",
       "      <td>[Action, Adventure, Thriller]</td>\n",
       "      <td>35000000</td>\n",
       "      <td>64350171</td>\n",
       "      <td>en</td>\n",
       "      <td>[33, 21437, 23770]</td>\n",
       "      <td>[Universal Pictures, Imperial Entertainment, S...</td>\n",
       "      <td>[US]</td>\n",
       "      <td>[United States of America]</td>\n",
       "      <td>106.0</td>\n",
       "      <td>5.5</td>\n",
       "      <td>174.0</td>\n",
       "      <td>5.231580</td>\n",
       "      <td>[{'credit_id': '52fe44dbc3a36847f80ae0f1', 'de...</td>\n",
       "    </tr>\n",
       "  </tbody>\n",
       "</table>\n",
       "</div>"
      ],
      "text/plain": [
       "      id                              belongs_to_collection  \\\n",
       "0    862  {'id': 10194, 'name': 'Toy Story Collection', ...   \n",
       "1   8844                                                NaN   \n",
       "2  31357                                                NaN   \n",
       "3    949                                                NaN   \n",
       "4   9091                                                NaN   \n",
       "\n",
       "               title release_year         genres_id  \\\n",
       "0          Toy Story         1995   [16, 35, 10751]   \n",
       "1            Jumanji         1995   [12, 14, 10751]   \n",
       "2  Waiting to Exhale         1995   [35, 18, 10749]   \n",
       "3               Heat         1995  [28, 80, 18, 53]   \n",
       "4       Sudden Death         1995      [28, 12, 53]   \n",
       "\n",
       "                        genres_name    budget    revenue original_language  \\\n",
       "0       [Animation, Comedy, Family]  30000000  373554033                en   \n",
       "1      [Adventure, Fantasy, Family]  65000000  262797249                en   \n",
       "2          [Comedy, Drama, Romance]  16000000   81452156                en   \n",
       "3  [Action, Crime, Drama, Thriller]  60000000  187436818                en   \n",
       "4     [Action, Adventure, Thriller]  35000000   64350171                en   \n",
       "\n",
       "  production_companies_id                          production_companies_name  \\\n",
       "0                     [3]                          [Pixar Animation Studios]   \n",
       "1      [559, 2550, 10201]  [TriStar Pictures, Teitler Film, Interscope Co...   \n",
       "2                   [306]           [Twentieth Century Fox Film Corporation]   \n",
       "3        [508, 675, 6194]  [Regency Enterprises, Forward Pass, Warner Bros.]   \n",
       "4      [33, 21437, 23770]  [Universal Pictures, Imperial Entertainment, S...   \n",
       "\n",
       "  production_countries_id   production_countries_name  runtime  vote_average  \\\n",
       "0                    [US]  [United States of America]     81.0           7.7   \n",
       "1                    [US]  [United States of America]    104.0           6.9   \n",
       "2                    [US]  [United States of America]    127.0           6.1   \n",
       "3                    [US]  [United States of America]    170.0           7.7   \n",
       "4                    [US]  [United States of America]    106.0           5.5   \n",
       "\n",
       "   vote_count  popularity                                               crew  \n",
       "0      5415.0   21.946943  [{'credit_id': '52fe4284c3a36847f8024f49', 'de...  \n",
       "1      2413.0   17.015539  [{'credit_id': '52fe44bfc3a36847f80a7cd1', 'de...  \n",
       "2        34.0    3.859495  [{'credit_id': '52fe44779251416c91011acb', 'de...  \n",
       "3      1886.0   17.924927  [{'credit_id': '52fe4292c3a36847f802916d', 'de...  \n",
       "4       174.0    5.231580  [{'credit_id': '52fe44dbc3a36847f80ae0f1', 'de...  "
      ]
     },
     "execution_count": 14,
     "metadata": {},
     "output_type": "execute_result"
    }
   ],
   "source": [
    "combined_df.head()"
   ]
  },
  {
   "cell_type": "code",
   "execution_count": 15,
   "id": "8150a53f",
   "metadata": {},
   "outputs": [],
   "source": [
    "import seaborn as sns"
   ]
  },
  {
   "cell_type": "code",
   "execution_count": 16,
   "id": "9d8febb2",
   "metadata": {},
   "outputs": [
    {
     "name": "stderr",
     "output_type": "stream",
     "text": [
      "C:\\Users\\humay\\anaconda3\\Lib\\site-packages\\seaborn\\axisgrid.py:118: UserWarning: The figure layout has changed to tight\n",
      "  self._figure.tight_layout(*args, **kwargs)\n"
     ]
    },
    {
     "data": {
      "text/plain": [
       "<seaborn.axisgrid.FacetGrid at 0x20633ef37d0>"
      ]
     },
     "execution_count": 16,
     "metadata": {},
     "output_type": "execute_result"
    },
    {
     "data": {
      "image/png": "[encoded data removed]",
      "text/plain": [
       "<Figure size 500x500 with 1 Axes>"
      ]
     },
     "metadata": {},
     "output_type": "display_data"
    }
   ],
   "source": [
    "# strong corr()\n",
    "sns.lmplot(x=\"budget\", y=\"revenue\", data=combined_df, fit_reg=True, ci=None)"
   ]
  },
  {
   "cell_type": "code",
   "execution_count": 17,
   "id": "17186e9e",
   "metadata": {},
   "outputs": [
    {
     "name": "stderr",
     "output_type": "stream",
     "text": [
      "C:\\Users\\humay\\anaconda3\\Lib\\site-packages\\seaborn\\axisgrid.py:118: UserWarning: The figure layout has changed to tight\n",
      "  self._figure.tight_layout(*args, **kwargs)\n"
     ]
    },
    {
     "data": {
      "text/plain": [
       "<seaborn.axisgrid.FacetGrid at 0x2063c05d710>"
      ]
     },
     "execution_count": 17,
     "metadata": {},
     "output_type": "execute_result"
    },
    {
     "data": {
      "image/png": "[encoded data removed]",
      "text/plain": [
       "<Figure size 500x500 with 1 Axes>"
      ]
     },
     "metadata": {},
     "output_type": "display_data"
    }
   ],
   "source": [
    "# strong corr()\n",
    "sns.lmplot(x=\"vote_count\", y=\"revenue\", data=combined_df, fit_reg=True, ci=None)"
   ]
  },
  {
   "cell_type": "code",
   "execution_count": 18,
   "id": "4ed09679",
   "metadata": {},
   "outputs": [
    {
     "name": "stderr",
     "output_type": "stream",
     "text": [
      "C:\\Users\\humay\\anaconda3\\Lib\\site-packages\\seaborn\\axisgrid.py:118: UserWarning: The figure layout has changed to tight\n",
      "  self._figure.tight_layout(*args, **kwargs)\n"
     ]
    },
    {
     "data": {
      "text/plain": [
       "<seaborn.axisgrid.FacetGrid at 0x2063bfbc150>"
      ]
     },
     "execution_count": 18,
     "metadata": {},
     "output_type": "execute_result"
    },
    {
     "data": {
      "image/png": "[encoded data removed]",
      "text/plain": [
       "<Figure size 500x500 with 1 Axes>"
      ]
     },
     "metadata": {},
     "output_type": "display_data"
    }
   ],
   "source": [
    "# weak corr() example\n",
    "sns.lmplot(x=\"popularity\", y=\"revenue\", data=combined_df, fit_reg=True, ci=None)"
   ]
  },
  {
   "cell_type": "markdown",
   "id": "f4af05ee",
   "metadata": {},
   "source": [
    "# historgram below\n",
    "- most movies (y-axis) have earned between 0 - 500,000,000 (x-axis). (le9 means num x 10^9)"
   ]
  },
  {
   "cell_type": "code",
   "execution_count": 19,
   "id": "344d5061",
   "metadata": {},
   "outputs": [
    {
     "data": {
      "text/plain": [
       "<Axes: ylabel='Frequency'>"
      ]
     },
     "execution_count": 19,
     "metadata": {},
     "output_type": "execute_result"
    },
    {
     "data": {
      "image/png": "[encoded data removed]",
      "text/plain": [
       "<Figure size 640x480 with 1 Axes>"
      ]
     },
     "metadata": {},
     "output_type": "display_data"
    }
   ],
   "source": [
    "combined_df.plot.hist(y=\"revenue\")"
   ]
  },
  {
   "cell_type": "code",
   "execution_count": 21,
   "id": "95b24334",
   "metadata": {},
   "outputs": [
    {
     "data": {
      "text/plain": [
       "Index(['id', 'belongs_to_collection', 'title', 'release_year', 'genres_id',\n",
       "       'genres_name', 'budget', 'revenue', 'original_language',\n",
       "       'production_companies_id', 'production_companies_name',\n",
       "       'production_countries_id', 'production_countries_name', 'runtime',\n",
       "       'vote_average', 'vote_count', 'popularity', 'crew'],\n",
       "      dtype='object')"
      ]
     },
     "execution_count": 21,
     "metadata": {},
     "output_type": "execute_result"
    }
   ],
   "source": [
    "combined_df.columns"
   ]
  },
  {
   "cell_type": "code",
   "execution_count": 23,
   "id": "6082cf72",
   "metadata": {},
   "outputs": [],
   "source": [
    "data = combined_df[\"genres_name\"]\n",
    "    \n",
    "genre_name_1 = [each[0:1] for each in data]\n",
    "genre_name_1_list = []\n",
    "for each in genre_name_1:\n",
    "    if len(each) == 1:\n",
    "        genre_name_1_list.append(each.pop())\n",
    "    else:\n",
    "        genre_name_1_list.append(\"Unavailable\")\n",
    "        \n",
    "#genre_name_1_list\n",
    "\n",
    "combined_df[\"genre\"] = genre_name_1_list"
   ]
  },
  {
   "cell_type": "code",
   "execution_count": 27,
   "id": "f72c2f11",
   "metadata": {},
   "outputs": [],
   "source": [
    "data = combined_df[\"production_companies_name\"]\n",
    "    \n",
    "prod_comp_name = [each[0:1] for each in data]\n",
    "prod_comp_name1 = []\n",
    "for each in prod_comp_name:\n",
    "    if len(each) == 1:\n",
    "        prod_comp_name1.append(each.pop())\n",
    "    else:\n",
    "        prod_comp_name1.append(\"Unavailable\")\n",
    "\n",
    "#prod_comp_name1\n",
    "combined_df[\"production_country\"] = prod_country1"
   ]
  },
  {
   "cell_type": "code",
   "execution_count": 28,
   "id": "97472f2f",
   "metadata": {},
   "outputs": [],
   "source": [
    "data = combined_df[\"production_countries_name\"]\n",
    "    \n",
    "prod_country = [each[0:1] for each in data]\n",
    "prod_country1 = []\n",
    "for each in prod_country:\n",
    "    if len(each) == 1:\n",
    "        prod_country1.append(each.pop())\n",
    "    else:\n",
    "        prod_country1.append(\"Unavailable\")\n",
    "        \n",
    "#prod_country1\n",
    "combined_df[\"production_company\"] = prod_comp_name1"
   ]
  },
  {
   "cell_type": "markdown",
   "id": "8df54a1a",
   "metadata": {},
   "source": [
    "# DROP AN REINDEX UNNECESSARY"
   ]
  },
  {
   "cell_type": "code",
   "execution_count": 30,
   "id": "4913190d",
   "metadata": {},
   "outputs": [],
   "source": [
    "combined_df = combined_df.drop(columns=[\"belongs_to_collection\", \"genres_id\", \"genres_name\",\n",
    "                                       \"production_companies_id\", \"production_companies_name\",\n",
    "                                       \"production_countries_id\", \"production_countries_name\",\n",
    "                                       \"popularity\", \"crew\"])"
   ]
  },
  {
   "cell_type": "code",
   "execution_count": 32,
   "id": "69230d94",
   "metadata": {},
   "outputs": [],
   "source": [
    "combined_df = combined_df.reindex(columns=[\"id\", \"title\", \"release_year\", \"genre\",\n",
    "                             \"production_company\", \"production_country\", \"original_language\",\n",
    "                             \"budget\", \"runtime\", \"vote_average\", \"vote_count\", \"revenue\"])"
   ]
  },
  {
   "cell_type": "code",
   "execution_count": 65,
   "id": "e7c62a69",
   "metadata": {},
   "outputs": [
    {
     "data": {
      "text/html": [
       "<div>\n",
       "<style scoped>\n",
       "    .dataframe tbody tr th:only-of-type {\n",
       "        vertical-align: middle;\n",
       "    }\n",
       "\n",
       "    .dataframe tbody tr th {\n",
       "        vertical-align: top;\n",
       "    }\n",
       "\n",
       "    .dataframe thead th {\n",
       "        text-align: right;\n",
       "    }\n",
       "</style>\n",
       "<table border=\"1\" class=\"dataframe\">\n",
       "  <thead>\n",
       "    <tr style=\"text-align: right;\">\n",
       "      <th></th>\n",
       "      <th>id</th>\n",
       "      <th>title</th>\n",
       "      <th>release_year</th>\n",
       "      <th>genre</th>\n",
       "      <th>production_company</th>\n",
       "      <th>production_country</th>\n",
       "      <th>original_language</th>\n",
       "      <th>budget</th>\n",
       "      <th>runtime</th>\n",
       "      <th>vote_average</th>\n",
       "      <th>vote_count</th>\n",
       "      <th>revenue</th>\n",
       "    </tr>\n",
       "  </thead>\n",
       "  <tbody>\n",
       "    <tr>\n",
       "      <th>0</th>\n",
       "      <td>862</td>\n",
       "      <td>Toy Story</td>\n",
       "      <td>1995</td>\n",
       "      <td>Animation</td>\n",
       "      <td>Pixar Animation Studios</td>\n",
       "      <td>United States of America</td>\n",
       "      <td>en</td>\n",
       "      <td>30000000</td>\n",
       "      <td>81.0</td>\n",
       "      <td>7.7</td>\n",
       "      <td>5415.0</td>\n",
       "      <td>373554033</td>\n",
       "    </tr>\n",
       "    <tr>\n",
       "      <th>1</th>\n",
       "      <td>8844</td>\n",
       "      <td>Jumanji</td>\n",
       "      <td>1995</td>\n",
       "      <td>Adventure</td>\n",
       "      <td>TriStar Pictures</td>\n",
       "      <td>United States of America</td>\n",
       "      <td>en</td>\n",
       "      <td>65000000</td>\n",
       "      <td>104.0</td>\n",
       "      <td>6.9</td>\n",
       "      <td>2413.0</td>\n",
       "      <td>262797249</td>\n",
       "    </tr>\n",
       "    <tr>\n",
       "      <th>2</th>\n",
       "      <td>31357</td>\n",
       "      <td>Waiting to Exhale</td>\n",
       "      <td>1995</td>\n",
       "      <td>Comedy</td>\n",
       "      <td>Twentieth Century Fox Film Corporation</td>\n",
       "      <td>United States of America</td>\n",
       "      <td>en</td>\n",
       "      <td>16000000</td>\n",
       "      <td>127.0</td>\n",
       "      <td>6.1</td>\n",
       "      <td>34.0</td>\n",
       "      <td>81452156</td>\n",
       "    </tr>\n",
       "    <tr>\n",
       "      <th>3</th>\n",
       "      <td>949</td>\n",
       "      <td>Heat</td>\n",
       "      <td>1995</td>\n",
       "      <td>Action</td>\n",
       "      <td>Regency Enterprises</td>\n",
       "      <td>United States of America</td>\n",
       "      <td>en</td>\n",
       "      <td>60000000</td>\n",
       "      <td>170.0</td>\n",
       "      <td>7.7</td>\n",
       "      <td>1886.0</td>\n",
       "      <td>187436818</td>\n",
       "    </tr>\n",
       "    <tr>\n",
       "      <th>4</th>\n",
       "      <td>9091</td>\n",
       "      <td>Sudden Death</td>\n",
       "      <td>1995</td>\n",
       "      <td>Action</td>\n",
       "      <td>Universal Pictures</td>\n",
       "      <td>United States of America</td>\n",
       "      <td>en</td>\n",
       "      <td>35000000</td>\n",
       "      <td>106.0</td>\n",
       "      <td>5.5</td>\n",
       "      <td>174.0</td>\n",
       "      <td>64350171</td>\n",
       "    </tr>\n",
       "  </tbody>\n",
       "</table>\n",
       "</div>"
      ],
      "text/plain": [
       "      id              title release_year      genre  \\\n",
       "0    862          Toy Story         1995  Animation   \n",
       "1   8844            Jumanji         1995  Adventure   \n",
       "2  31357  Waiting to Exhale         1995     Comedy   \n",
       "3    949               Heat         1995     Action   \n",
       "4   9091       Sudden Death         1995     Action   \n",
       "\n",
       "                       production_company        production_country  \\\n",
       "0                 Pixar Animation Studios  United States of America   \n",
       "1                        TriStar Pictures  United States of America   \n",
       "2  Twentieth Century Fox Film Corporation  United States of America   \n",
       "3                     Regency Enterprises  United States of America   \n",
       "4                      Universal Pictures  United States of America   \n",
       "\n",
       "  original_language    budget  runtime  vote_average  vote_count    revenue  \n",
       "0                en  30000000     81.0           7.7      5415.0  373554033  \n",
       "1                en  65000000    104.0           6.9      2413.0  262797249  \n",
       "2                en  16000000    127.0           6.1        34.0   81452156  \n",
       "3                en  60000000    170.0           7.7      1886.0  187436818  \n",
       "4                en  35000000    106.0           5.5       174.0   64350171  "
      ]
     },
     "execution_count": 65,
     "metadata": {},
     "output_type": "execute_result"
    }
   ],
   "source": [
    "combined_df.head()"
   ]
  },
  {
   "cell_type": "markdown",
   "id": "6f87bc9a",
   "metadata": {},
   "source": [
    "# Split Train/Test - 80/20"
   ]
  },
  {
   "cell_type": "code",
   "execution_count": 34,
   "id": "6c48f2c9",
   "metadata": {},
   "outputs": [],
   "source": [
    "from sklearn.model_selection import train_test_split\n",
    "\n",
    "train, test = train_test_split(combined_df, test_size=0.2)"
   ]
  },
  {
   "cell_type": "code",
   "execution_count": 35,
   "id": "41f0a9c7",
   "metadata": {},
   "outputs": [
    {
     "data": {
      "text/plain": [
       "(4313, 12)"
      ]
     },
     "execution_count": 35,
     "metadata": {},
     "output_type": "execute_result"
    }
   ],
   "source": [
    "train.shape"
   ]
  },
  {
   "cell_type": "code",
   "execution_count": 36,
   "id": "741ec5b9",
   "metadata": {},
   "outputs": [
    {
     "data": {
      "text/plain": [
       "(1079, 12)"
      ]
     },
     "execution_count": 36,
     "metadata": {},
     "output_type": "execute_result"
    }
   ],
   "source": [
    "test.shape"
   ]
  },
  {
   "cell_type": "markdown",
   "id": "972277c4",
   "metadata": {},
   "source": [
    "# Training our Model"
   ]
  },
  {
   "cell_type": "code",
   "execution_count": 39,
   "id": "870b9ee2",
   "metadata": {},
   "outputs": [],
   "source": [
    "from sklearn.linear_model import LinearRegression\n",
    "\n",
    "reg = LinearRegression()"
   ]
  },
  {
   "cell_type": "code",
   "execution_count": 40,
   "id": "d799dabb",
   "metadata": {},
   "outputs": [],
   "source": [
    "predictors = [\"budget\", \"vote_count\"]\n",
    "target = \"revenue\""
   ]
  },
  {
   "cell_type": "code",
   "execution_count": 41,
   "id": "e57cbc6b",
   "metadata": {},
   "outputs": [
    {
     "data": {
      "text/html": [
       "<style>#sk-container-id-1 {color: black;}#sk-container-id-1 pre{padding: 0;}#sk-container-id-1 div.sk-toggleable {background-color: white;}#sk-container-id-1 label.sk-toggleable__label {cursor: pointer;display: block;width: 100%;margin-bottom: 0;padding: 0.3em;box-sizing: border-box;text-align: center;}#sk-container-id-1 label.sk-toggleable__label-arrow:before {content: \"▸\";float: left;margin-right: 0.25em;color: #696969;}#sk-container-id-1 label.sk-toggleable__label-arrow:hover:before {color: black;}#sk-container-id-1 div.sk-estimator:hover label.sk-toggleable__label-arrow:before {color: black;}#sk-container-id-1 div.sk-toggleable__content {max-height: 0;max-width: 0;overflow: hidden;text-align: left;background-color: #f0f8ff;}#sk-container-id-1 div.sk-toggleable__content pre {margin: 0.2em;color: black;border-radius: 0.25em;background-color: #f0f8ff;}#sk-container-id-1 input.sk-toggleable__control:checked~div.sk-toggleable__content {max-height: 200px;max-width: 100%;overflow: auto;}#sk-container-id-1 input.sk-toggleable__control:checked~label.sk-toggleable__label-arrow:before {content: \"▾\";}#sk-container-id-1 div.sk-estimator input.sk-toggleable__control:checked~label.sk-toggleable__label {background-color: #d4ebff;}#sk-container-id-1 div.sk-label input.sk-toggleable__control:checked~label.sk-toggleable__label {background-color: #d4ebff;}#sk-container-id-1 input.sk-hidden--visually {border: 0;clip: rect(1px 1px 1px 1px);clip: rect(1px, 1px, 1px, 1px);height: 1px;margin: -1px;overflow: hidden;padding: 0;position: absolute;width: 1px;}#sk-container-id-1 div.sk-estimator {font-family: monospace;background-color: #f0f8ff;border: 1px dotted black;border-radius: 0.25em;box-sizing: border-box;margin-bottom: 0.5em;}#sk-container-id-1 div.sk-estimator:hover {background-color: #d4ebff;}#sk-container-id-1 div.sk-parallel-item::after {content: \"\";width: 100%;border-bottom: 1px solid gray;flex-grow: 1;}#sk-container-id-1 div.sk-label:hover label.sk-toggleable__label {background-color: #d4ebff;}#sk-container-id-1 div.sk-serial::before {content: \"\";position: absolute;border-left: 1px solid gray;box-sizing: border-box;top: 0;bottom: 0;left: 50%;z-index: 0;}#sk-container-id-1 div.sk-serial {display: flex;flex-direction: column;align-items: center;background-color: white;padding-right: 0.2em;padding-left: 0.2em;position: relative;}#sk-container-id-1 div.sk-item {position: relative;z-index: 1;}#sk-container-id-1 div.sk-parallel {display: flex;align-items: stretch;justify-content: center;background-color: white;position: relative;}#sk-container-id-1 div.sk-item::before, #sk-container-id-1 div.sk-parallel-item::before {content: \"\";position: absolute;border-left: 1px solid gray;box-sizing: border-box;top: 0;bottom: 0;left: 50%;z-index: -1;}#sk-container-id-1 div.sk-parallel-item {display: flex;flex-direction: column;z-index: 1;position: relative;background-color: white;}#sk-container-id-1 div.sk-parallel-item:first-child::after {align-self: flex-end;width: 50%;}#sk-container-id-1 div.sk-parallel-item:last-child::after {align-self: flex-start;width: 50%;}#sk-container-id-1 div.sk-parallel-item:only-child::after {width: 0;}#sk-container-id-1 div.sk-dashed-wrapped {border: 1px dashed gray;margin: 0 0.4em 0.5em 0.4em;box-sizing: border-box;padding-bottom: 0.4em;background-color: white;}#sk-container-id-1 div.sk-label label {font-family: monospace;font-weight: bold;display: inline-block;line-height: 1.2em;}#sk-container-id-1 div.sk-label-container {text-align: center;}#sk-container-id-1 div.sk-container {/* jupyter's `normalize.less` sets `[hidden] { display: none; }` but bootstrap.min.css set `[hidden] { display: none !important; }` so we also need the `!important` here to be able to override the default hidden behavior on the sphinx rendered scikit-learn.org. See: https://github.com/scikit-learn/scikit-learn/issues/21755 */display: inline-block !important;position: relative;}#sk-container-id-1 div.sk-text-repr-fallback {display: none;}</style><div id=\"sk-container-id-1\" class=\"sk-top-container\"><div class=\"sk-text-repr-fallback\"><pre>LinearRegression()</pre><b>In a Jupyter environment, please rerun this cell to show the HTML representation or trust the notebook. <br />On GitHub, the HTML representation is unable to render, please try loading this page with nbviewer.org.</b></div><div class=\"sk-container\" hidden><div class=\"sk-item\"><div class=\"sk-estimator sk-toggleable\"><input class=\"sk-toggleable__control sk-hidden--visually\" id=\"sk-estimator-id-1\" type=\"checkbox\" checked><label for=\"sk-estimator-id-1\" class=\"sk-toggleable__label sk-toggleable__label-arrow\">LinearRegression</label><div class=\"sk-toggleable__content\"><pre>LinearRegression()</pre></div></div></div></div></div>"
      ],
      "text/plain": [
       "LinearRegression()"
      ]
     },
     "execution_count": 41,
     "metadata": {},
     "output_type": "execute_result"
    }
   ],
   "source": [
    "reg.fit(train[predictors], train[\"revenue\"])"
   ]
  },
  {
   "cell_type": "code",
   "execution_count": 42,
   "id": "0aa444b0",
   "metadata": {},
   "outputs": [],
   "source": [
    "predictions = reg.predict(test[predictors])"
   ]
  },
  {
   "cell_type": "code",
   "execution_count": 43,
   "id": "939f0077",
   "metadata": {},
   "outputs": [
    {
     "data": {
      "text/plain": [
       "array([ 9.48417817e+06,  7.42784549e+07, -7.74611604e+06, ...,\n",
       "        3.93444600e+08, -5.78739157e+06,  2.22834144e+07])"
      ]
     },
     "execution_count": 43,
     "metadata": {},
     "output_type": "execute_result"
    }
   ],
   "source": [
    "predictions"
   ]
  },
  {
   "cell_type": "markdown",
   "id": "53a32292",
   "metadata": {},
   "source": [
    "- negative numbers\n",
    "- format e7 = 10^7 etc.\n",
    "- after changing format. still want to round"
   ]
  },
  {
   "cell_type": "code",
   "execution_count": 45,
   "id": "2e4d002f",
   "metadata": {},
   "outputs": [],
   "source": [
    "import numpy as np\n",
    "\n",
    "def format_predictions(arr):\n",
    "    return [f'{x:.0f}' for x in arr]\n",
    "\n",
    "predictions = format_predictions(predictions)\n",
    "#print(predictions)"
   ]
  },
  {
   "cell_type": "markdown",
   "id": "00fc044b",
   "metadata": {},
   "source": [
    "- see how many negatives in our solution"
   ]
  },
  {
   "cell_type": "code",
   "execution_count": 46,
   "id": "8849387d",
   "metadata": {},
   "outputs": [
    {
     "name": "stdout",
     "output_type": "stream",
     "text": [
      "1079 216\n"
     ]
    }
   ],
   "source": [
    "predictions = [int(each) for each in predictions]\n",
    "lol1 = []\n",
    "for each in predictions:\n",
    "    if each < 0:\n",
    "        lol1.append(each)\n",
    "\n",
    "print(len(predictions), len(lol1))"
   ]
  },
  {
   "cell_type": "code",
   "execution_count": 47,
   "id": "7e011d53",
   "metadata": {},
   "outputs": [],
   "source": [
    "test[\"predictions\"] = predictions"
   ]
  },
  {
   "cell_type": "code",
   "execution_count": 66,
   "id": "3c7101f6",
   "metadata": {},
   "outputs": [
    {
     "data": {
      "text/html": [
       "<div>\n",
       "<style scoped>\n",
       "    .dataframe tbody tr th:only-of-type {\n",
       "        vertical-align: middle;\n",
       "    }\n",
       "\n",
       "    .dataframe tbody tr th {\n",
       "        vertical-align: top;\n",
       "    }\n",
       "\n",
       "    .dataframe thead th {\n",
       "        text-align: right;\n",
       "    }\n",
       "</style>\n",
       "<table border=\"1\" class=\"dataframe\">\n",
       "  <thead>\n",
       "    <tr style=\"text-align: right;\">\n",
       "      <th></th>\n",
       "      <th>id</th>\n",
       "      <th>title</th>\n",
       "      <th>release_year</th>\n",
       "      <th>genre</th>\n",
       "      <th>production_company</th>\n",
       "      <th>production_country</th>\n",
       "      <th>original_language</th>\n",
       "      <th>budget</th>\n",
       "      <th>runtime</th>\n",
       "      <th>vote_average</th>\n",
       "      <th>vote_count</th>\n",
       "      <th>revenue</th>\n",
       "      <th>predictions</th>\n",
       "    </tr>\n",
       "  </thead>\n",
       "  <tbody>\n",
       "    <tr>\n",
       "      <th>2576</th>\n",
       "      <td>33539</td>\n",
       "      <td>Once Upon a Forest</td>\n",
       "      <td>1993</td>\n",
       "      <td>Animation</td>\n",
       "      <td>Twentieth Century Fox Film Corporation</td>\n",
       "      <td>United Kingdom</td>\n",
       "      <td>en</td>\n",
       "      <td>13000000</td>\n",
       "      <td>71.0</td>\n",
       "      <td>6.2</td>\n",
       "      <td>24.0</td>\n",
       "      <td>6582052</td>\n",
       "      <td>9484178</td>\n",
       "    </tr>\n",
       "    <tr>\n",
       "      <th>3222</th>\n",
       "      <td>8836</td>\n",
       "      <td>The X Files: I Want to Believe</td>\n",
       "      <td>2008</td>\n",
       "      <td>Drama</td>\n",
       "      <td>Twentieth Century Fox Film Corporation</td>\n",
       "      <td>Canada</td>\n",
       "      <td>en</td>\n",
       "      <td>30000000</td>\n",
       "      <td>104.0</td>\n",
       "      <td>5.5</td>\n",
       "      <td>534.0</td>\n",
       "      <td>68369434</td>\n",
       "      <td>74278455</td>\n",
       "    </tr>\n",
       "    <tr>\n",
       "      <th>1660</th>\n",
       "      <td>248</td>\n",
       "      <td>Pocketful of Miracles</td>\n",
       "      <td>1961</td>\n",
       "      <td>Comedy</td>\n",
       "      <td>Franton Production</td>\n",
       "      <td>United States of America</td>\n",
       "      <td>en</td>\n",
       "      <td>2900000</td>\n",
       "      <td>136.0</td>\n",
       "      <td>7.3</td>\n",
       "      <td>25.0</td>\n",
       "      <td>5000000</td>\n",
       "      <td>7746116</td>\n",
       "    </tr>\n",
       "    <tr>\n",
       "      <th>5289</th>\n",
       "      <td>341174</td>\n",
       "      <td>Fifty Shades Darker</td>\n",
       "      <td>2017</td>\n",
       "      <td>Drama</td>\n",
       "      <td>Universal Pictures</td>\n",
       "      <td>United States of America</td>\n",
       "      <td>en</td>\n",
       "      <td>55000000</td>\n",
       "      <td>118.0</td>\n",
       "      <td>6.0</td>\n",
       "      <td>2341.0</td>\n",
       "      <td>378827494</td>\n",
       "      <td>243502450</td>\n",
       "    </tr>\n",
       "    <tr>\n",
       "      <th>173</th>\n",
       "      <td>9386</td>\n",
       "      <td>In the Line of Fire</td>\n",
       "      <td>1993</td>\n",
       "      <td>Action</td>\n",
       "      <td>Castle Rock Entertainment</td>\n",
       "      <td>United States of America</td>\n",
       "      <td>en</td>\n",
       "      <td>40000000</td>\n",
       "      <td>128.0</td>\n",
       "      <td>6.8</td>\n",
       "      <td>392.0</td>\n",
       "      <td>176997168</td>\n",
       "      <td>81474357</td>\n",
       "    </tr>\n",
       "  </tbody>\n",
       "</table>\n",
       "</div>"
      ],
      "text/plain": [
       "          id                           title release_year      genre  \\\n",
       "2576   33539              Once Upon a Forest         1993  Animation   \n",
       "3222    8836  The X Files: I Want to Believe         2008      Drama   \n",
       "1660     248           Pocketful of Miracles         1961     Comedy   \n",
       "5289  341174             Fifty Shades Darker         2017      Drama   \n",
       "173     9386             In the Line of Fire         1993     Action   \n",
       "\n",
       "                          production_company        production_country  \\\n",
       "2576  Twentieth Century Fox Film Corporation            United Kingdom   \n",
       "3222  Twentieth Century Fox Film Corporation                    Canada   \n",
       "1660                      Franton Production  United States of America   \n",
       "5289                      Universal Pictures  United States of America   \n",
       "173                Castle Rock Entertainment  United States of America   \n",
       "\n",
       "     original_language    budget  runtime  vote_average  vote_count  \\\n",
       "2576                en  13000000     71.0           6.2        24.0   \n",
       "3222                en  30000000    104.0           5.5       534.0   \n",
       "1660                en   2900000    136.0           7.3        25.0   \n",
       "5289                en  55000000    118.0           6.0      2341.0   \n",
       "173                 en  40000000    128.0           6.8       392.0   \n",
       "\n",
       "        revenue  predictions  \n",
       "2576    6582052      9484178  \n",
       "3222   68369434     74278455  \n",
       "1660    5000000      7746116  \n",
       "5289  378827494    243502450  \n",
       "173   176997168     81474357  "
      ]
     },
     "execution_count": 66,
     "metadata": {},
     "output_type": "execute_result"
    }
   ],
   "source": [
    "test.head()"
   ]
  },
  {
   "cell_type": "code",
   "execution_count": 49,
   "id": "11fe1c66",
   "metadata": {},
   "outputs": [],
   "source": [
    "test.to_csv(\"test_with_negs_v4.csv\")"
   ]
  },
  {
   "cell_type": "markdown",
   "id": "f65ebee7",
   "metadata": {},
   "source": [
    "# PROBLEM:\n",
    "- Minus values\n",
    "- Don't know why\n",
    "- I think i might make them positive:\n",
    "some of the neg. predicted values are similar to actual value\n",
    "- some exceptions: e.g) A star is born"
   ]
  },
  {
   "cell_type": "markdown",
   "id": "af2e2089",
   "metadata": {},
   "source": [
    "## going to change neg. to pos.\n",
    "## will see using error metrcic how good it is\n",
    "## error metric: root mean squared error"
   ]
  },
  {
   "cell_type": "code",
   "execution_count": 51,
   "id": "5695c043",
   "metadata": {},
   "outputs": [],
   "source": [
    "sample1 = predictions\n",
    "sample2_abs = [abs(number) for number in sample1]"
   ]
  },
  {
   "cell_type": "code",
   "execution_count": 67,
   "id": "23142444",
   "metadata": {},
   "outputs": [],
   "source": [
    "test[\"predictions\"] = sample2_abs"
   ]
  },
  {
   "cell_type": "code",
   "execution_count": 68,
   "id": "7d7e0c08",
   "metadata": {},
   "outputs": [
    {
     "data": {
      "text/html": [
       "<div>\n",
       "<style scoped>\n",
       "    .dataframe tbody tr th:only-of-type {\n",
       "        vertical-align: middle;\n",
       "    }\n",
       "\n",
       "    .dataframe tbody tr th {\n",
       "        vertical-align: top;\n",
       "    }\n",
       "\n",
       "    .dataframe thead th {\n",
       "        text-align: right;\n",
       "    }\n",
       "</style>\n",
       "<table border=\"1\" class=\"dataframe\">\n",
       "  <thead>\n",
       "    <tr style=\"text-align: right;\">\n",
       "      <th></th>\n",
       "      <th>id</th>\n",
       "      <th>title</th>\n",
       "      <th>release_year</th>\n",
       "      <th>genre</th>\n",
       "      <th>production_company</th>\n",
       "      <th>production_country</th>\n",
       "      <th>original_language</th>\n",
       "      <th>budget</th>\n",
       "      <th>runtime</th>\n",
       "      <th>vote_average</th>\n",
       "      <th>vote_count</th>\n",
       "      <th>revenue</th>\n",
       "      <th>predictions</th>\n",
       "    </tr>\n",
       "  </thead>\n",
       "  <tbody>\n",
       "    <tr>\n",
       "      <th>2576</th>\n",
       "      <td>33539</td>\n",
       "      <td>Once Upon a Forest</td>\n",
       "      <td>1993</td>\n",
       "      <td>Animation</td>\n",
       "      <td>Twentieth Century Fox Film Corporation</td>\n",
       "      <td>United Kingdom</td>\n",
       "      <td>en</td>\n",
       "      <td>13000000</td>\n",
       "      <td>71.0</td>\n",
       "      <td>6.2</td>\n",
       "      <td>24.0</td>\n",
       "      <td>6582052</td>\n",
       "      <td>9484178</td>\n",
       "    </tr>\n",
       "    <tr>\n",
       "      <th>3222</th>\n",
       "      <td>8836</td>\n",
       "      <td>The X Files: I Want to Believe</td>\n",
       "      <td>2008</td>\n",
       "      <td>Drama</td>\n",
       "      <td>Twentieth Century Fox Film Corporation</td>\n",
       "      <td>Canada</td>\n",
       "      <td>en</td>\n",
       "      <td>30000000</td>\n",
       "      <td>104.0</td>\n",
       "      <td>5.5</td>\n",
       "      <td>534.0</td>\n",
       "      <td>68369434</td>\n",
       "      <td>74278455</td>\n",
       "    </tr>\n",
       "    <tr>\n",
       "      <th>1660</th>\n",
       "      <td>248</td>\n",
       "      <td>Pocketful of Miracles</td>\n",
       "      <td>1961</td>\n",
       "      <td>Comedy</td>\n",
       "      <td>Franton Production</td>\n",
       "      <td>United States of America</td>\n",
       "      <td>en</td>\n",
       "      <td>2900000</td>\n",
       "      <td>136.0</td>\n",
       "      <td>7.3</td>\n",
       "      <td>25.0</td>\n",
       "      <td>5000000</td>\n",
       "      <td>7746116</td>\n",
       "    </tr>\n",
       "    <tr>\n",
       "      <th>5289</th>\n",
       "      <td>341174</td>\n",
       "      <td>Fifty Shades Darker</td>\n",
       "      <td>2017</td>\n",
       "      <td>Drama</td>\n",
       "      <td>Universal Pictures</td>\n",
       "      <td>United States of America</td>\n",
       "      <td>en</td>\n",
       "      <td>55000000</td>\n",
       "      <td>118.0</td>\n",
       "      <td>6.0</td>\n",
       "      <td>2341.0</td>\n",
       "      <td>378827494</td>\n",
       "      <td>243502450</td>\n",
       "    </tr>\n",
       "    <tr>\n",
       "      <th>173</th>\n",
       "      <td>9386</td>\n",
       "      <td>In the Line of Fire</td>\n",
       "      <td>1993</td>\n",
       "      <td>Action</td>\n",
       "      <td>Castle Rock Entertainment</td>\n",
       "      <td>United States of America</td>\n",
       "      <td>en</td>\n",
       "      <td>40000000</td>\n",
       "      <td>128.0</td>\n",
       "      <td>6.8</td>\n",
       "      <td>392.0</td>\n",
       "      <td>176997168</td>\n",
       "      <td>81474357</td>\n",
       "    </tr>\n",
       "  </tbody>\n",
       "</table>\n",
       "</div>"
      ],
      "text/plain": [
       "          id                           title release_year      genre  \\\n",
       "2576   33539              Once Upon a Forest         1993  Animation   \n",
       "3222    8836  The X Files: I Want to Believe         2008      Drama   \n",
       "1660     248           Pocketful of Miracles         1961     Comedy   \n",
       "5289  341174             Fifty Shades Darker         2017      Drama   \n",
       "173     9386             In the Line of Fire         1993     Action   \n",
       "\n",
       "                          production_company        production_country  \\\n",
       "2576  Twentieth Century Fox Film Corporation            United Kingdom   \n",
       "3222  Twentieth Century Fox Film Corporation                    Canada   \n",
       "1660                      Franton Production  United States of America   \n",
       "5289                      Universal Pictures  United States of America   \n",
       "173                Castle Rock Entertainment  United States of America   \n",
       "\n",
       "     original_language    budget  runtime  vote_average  vote_count  \\\n",
       "2576                en  13000000     71.0           6.2        24.0   \n",
       "3222                en  30000000    104.0           5.5       534.0   \n",
       "1660                en   2900000    136.0           7.3        25.0   \n",
       "5289                en  55000000    118.0           6.0      2341.0   \n",
       "173                 en  40000000    128.0           6.8       392.0   \n",
       "\n",
       "        revenue  predictions  \n",
       "2576    6582052      9484178  \n",
       "3222   68369434     74278455  \n",
       "1660    5000000      7746116  \n",
       "5289  378827494    243502450  \n",
       "173   176997168     81474357  "
      ]
     },
     "execution_count": 68,
     "metadata": {},
     "output_type": "execute_result"
    }
   ],
   "source": [
    "test.head()"
   ]
  },
  {
   "cell_type": "code",
   "execution_count": 54,
   "id": "b4e86b40",
   "metadata": {},
   "outputs": [],
   "source": [
    "test.to_csv(\"test_no_negs_v5.csv\")"
   ]
  },
  {
   "cell_type": "markdown",
   "id": "e370b472",
   "metadata": {},
   "source": [
    "# Error Metric\n",
    "## Root Mean Square Error: RMSE"
   ]
  },
  {
   "cell_type": "code",
   "execution_count": 62,
   "id": "4983648a",
   "metadata": {},
   "outputs": [
    {
     "data": {
      "text/plain": [
       "5806830701731963.0"
      ]
     },
     "execution_count": 62,
     "metadata": {},
     "output_type": "execute_result"
    }
   ],
   "source": [
    "from sklearn.metrics import mean_squared_error\n",
    "\n",
    "error1 = mean_squared_error(test[\"revenue\"], test[\"predictions\"], squared=True)\n",
    "error1"
   ]
  },
  {
   "cell_type": "markdown",
   "id": "cd4d1c20",
   "metadata": {},
   "source": [
    "# mean_absolute_percentage_error"
   ]
  },
  {
   "cell_type": "code",
   "execution_count": 58,
   "id": "f9d61c84",
   "metadata": {},
   "outputs": [
    {
     "data": {
      "text/plain": [
       "39064.07759662185"
      ]
     },
     "execution_count": 58,
     "metadata": {},
     "output_type": "execute_result"
    }
   ],
   "source": [
    "from sklearn.metrics import mean_absolute_percentage_error\n",
    "\n",
    "M_PER = mean_absolute_percentage_error(test[\"revenue\"], test[\"predictions\"])\n",
    "\n",
    "M_PER"
   ]
  },
  {
   "cell_type": "markdown",
   "id": "fc573a69",
   "metadata": {},
   "source": [
    "# mean absolute error"
   ]
  },
  {
   "cell_type": "code",
   "execution_count": 59,
   "id": "f051931a",
   "metadata": {},
   "outputs": [
    {
     "data": {
      "text/plain": [
       "42008478.06672845"
      ]
     },
     "execution_count": 59,
     "metadata": {},
     "output_type": "execute_result"
    }
   ],
   "source": [
    "from sklearn.metrics import mean_absolute_error\n",
    "\n",
    "M_ABS = mean_absolute_error(test[\"revenue\"], test[\"predictions\"])\n",
    "\n",
    "M_ABS"
   ]
  },
  {
   "cell_type": "markdown",
   "id": "1eb55c5a",
   "metadata": {},
   "source": [
    "# RMSE"
   ]
  },
  {
   "cell_type": "code",
   "execution_count": 60,
   "id": "61b09098",
   "metadata": {},
   "outputs": [
    {
     "data": {
      "text/plain": [
       "5806830701731963.0"
      ]
     },
     "execution_count": 60,
     "metadata": {},
     "output_type": "execute_result"
    }
   ],
   "source": [
    "from sklearn.metrics import mean_squared_error\n",
    "\n",
    "error2 = mean_squared_error(test[\"revenue\"], test[\"predictions\"], squared=True)\n",
    "\n",
    "error2"
   ]
  },
  {
   "cell_type": "markdown",
   "id": "34b7ef63",
   "metadata": {},
   "source": [
    "# extra stuff ----\n"
   ]
  },
  {
   "cell_type": "code",
   "execution_count": 70,
   "id": "92107c09",
   "metadata": {},
   "outputs": [
    {
     "name": "stderr",
     "output_type": "stream",
     "text": [
      "C:\\Users\\humay\\AppData\\Local\\Temp\\ipykernel_25396\\3995118344.py:1: DtypeWarning: Columns (10) have mixed types. Specify dtype option on import or set low_memory=False.\n",
      "  movies_meta_data = pd.read_csv(\"movies_metadata.csv\")\n"
     ]
    },
    {
     "data": {
      "text/plain": [
       "Index(['adult', 'belongs_to_collection', 'budget', 'genres', 'homepage', 'id',\n",
       "       'imdb_id', 'original_language', 'original_title', 'overview',\n",
       "       'popularity', 'poster_path', 'production_companies',\n",
       "       'production_countries', 'release_date', 'revenue', 'runtime',\n",
       "       'spoken_languages', 'status', 'tagline', 'title', 'video',\n",
       "       'vote_average', 'vote_count'],\n",
       "      dtype='object')"
      ]
     },
     "execution_count": 70,
     "metadata": {},
     "output_type": "execute_result"
    }
   ],
   "source": [
    "movies_meta_data = pd.read_csv(\"movies_metadata.csv\")\n",
    "movies_meta_data.columns"
   ]
  }
 ],
 "metadata": {
  "kernelspec": {
   "display_name": "Python 3 (ipykernel)",
   "language": "python",
   "name": "python3"
  },
  "language_info": {
   "codemirror_mode": {
    "name": "ipython",
    "version": 3
   },
   "file_extension": ".py",
   "mimetype": "text/x-python",
   "name": "python",
   "nbconvert_exporter": "python",
   "pygments_lexer": "ipython3",
   "version": "3.11.5"
  }
 },
 "nbformat": 4,
 "nbformat_minor": 5
}
